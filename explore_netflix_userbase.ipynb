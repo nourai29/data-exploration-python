{
 "cells": [
  {
   "cell_type": "markdown",
   "metadata": {},
   "source": [
    "# Data Analysis with Visualization\n",
    "This notebook demonstrates basic data manipulation and visualization using `pandas`, `numpy`, `matplotlib`, and `seaborn`.\n",
    "\n",
    "We will start by importing the necessary libraries, creating a simple dataset, and visualizing the data.\n",
    "\n",
    "### Step 1: Import all the necessary libraries\n"
   ]
  },
  {
   "cell_type": "code",
   "execution_count": 1,
   "metadata": {},
   "outputs": [],
   "source": [
    "import os\n",
    "import pandas as pd\n",
    "import numpy as np\n",
    "import matplotlib.pyplot as plt\n",
    "import seaborn as sns\n"
   ]
  },
{
   "cell_type": "markdown",
   "metadata": {},
   "source": [
   "### Step 2: Conduct an initial data inspection\n"
   ]
  },
  {
   "cell_type": "code",
   "execution_count": 2,
   "metadata": {},
   "outputs": [],
   "source": [
   "netflix_userbase = pd.read_csv(\"delivery-hero-analysis.csv\"\n",
   "netflix_userbase.head() # Quick check of the beginning of the dataframe\n",
   "netflix_userbase.info() # This data has none missing value. So, we don't have to deal with missing value."
   ]
  },
],
 "metadata": {
  "kernelspec": {
   "display_name": "Python 3",
   "language": "python",
   "name": "python3"
  },
  "language_info": {
   "name": "python",
   "version": "3.8.5"
  }
 },
 "nbformat": 4,
 "nbformat_minor": 5
}
