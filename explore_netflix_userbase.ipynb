{
 "cells": [
  {
   "cell_type": "markdown",
   "metadata": {},
   "source": [
    "# Data Analysis with Visualization\n",
    "This notebook demonstrates basic data manipulation and visualization using `pandas`, `numpy`, `matplotlib`, and `seaborn`.\n",
    "\n",
    "### Step 1: Import all the necessary libraries\n",
    "\n",
    "We will start by importing the necessary libraries, creating a simple dataset, and visualizing the data.\n"
   ]
  },
  {
   "cell_type": "code",
   "execution_count": 1,
   "metadata": {},
   "outputs": [],
   "source": [
    "import os\n",
    "import pandas as pd\n",
    "import numpy as np\n",
    "import matplotlib.pyplot as plt\n",
    "import seaborn as sns\n"
   ]
  },
{
   "cell_type": "markdown",
   "metadata": {},
   "source": [
   "### Step 2: Conduct an initial data inspection\n",
    "\n",
    "Start by reading the file and understanding the structure of the dataset by inspecting its shape, columns, and summary statistics. This will help identify any immediate issues, such as incorrect data types, outliers, or inconsistencies.\n",
    "\n",
    "Key Findings from the Preview:\n",
    "- This dataset contains a 2,500 row and 10 columns.\n",
    "- This dataset has no missing value. So, we don't have to deal with missing value.\n",
    "- This dataset has no missing value. So, we don't have to deal with missing value.\n",
    "- `The Monthly Revenue` ranges from $10 to $15, with an average of $12.5.\n",
    "- The most common `Subscription Type` is the 'Basic' plan with 999 users.\n",
    "- Laptop devices dominate user access, with 25% of users preferring this device type"
   ]
  },
  {
   "cell_type": "code",
   "execution_count": 2,
   "metadata": {},
   "outputs": [],
   "source": [
   "netflix_userbase = pd.read_csv(\"netflix_userbase.csv\")\n",
   "netflix_userbase.head()\n",
   "netflix_userbase.info()"
   ]
  }
],
 "metadata": {
  "kernelspec": {
   "display_name": "Python 3",
   "language": "python",
   "name": "python3"
  },
  "language_info": {
   "name": "python",
   "version": "3.8.5"
  }
 },
 "nbformat": 4,
 "nbformat_minor": 5
}
