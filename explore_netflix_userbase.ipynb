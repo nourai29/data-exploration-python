{
 "cells": [
  {
   "cell_type": "markdown",
   "metadata": {},
   "source": [
    "# Data Analysis with Visualization\n",
    "This notebook demonstrates basic data manipulation and visualization using `pandas`, `numpy`, `matplotlib`, and `seaborn`.\n",
    "\n",
    "We will start by importing the necessary libraries, creating a simple dataset, and visualizing the data.\n"
   ]
  },
  {
   "cell_type": "code",
   "execution_count": 1,
   "metadata": {},
   "outputs": [],
   "source": [
    "# Import necessary libraries\n",
    "import os\n",
    "import pandas as pd\n",
    "import numpy as np\n",
    "import matplotlib.pyplot as plt\n",
    "import seaborn as sns\n"
   ]
  }
],
 "metadata": {
  "kernelspec": {
   "display_name": "Python 3",
   "language": "python",
   "name": "python3"
  },
  "language_info": {
   "name": "python",
   "version": "3.8.5"
  }
 },
 "nbformat": 4,
 "nbformat_minor": 5
}

# netflix_userbase = pd.read_csv("/Users/noura.itani/Downloads/Netflix Userbase.csv")

# subscription_breakdown = netflix_userbase['Subscription Type'].value_counts()
# gender_breakdown = netflix_userbase['Gender'].value_counts()
# device_breakdown = netflix_userbase['Device'].value_counts()
# country_breakdown = netflix_userbase['Country'].value_counts()

# print(subscription_breakdown,gender_breakdown, device_breakdown, country_breakdown)

# plt.figure(figsize=(4,4))
# subscription_breakdown.plot(
#         kind='pie', 
#         autopct='%1.1f%%', 
#         startangle=140, 
#         labels=subscription_breakdown.index,
#         colors=['brown', 'lightcoral', 'maroon']
#         )

# plt.legend(
#         title="Subscription Types", 
#         loc="lower center"
#         )

# plt.title('Users per Subscription Type', fontsize=10)

# plt.tight_layout()
# plt.show()
