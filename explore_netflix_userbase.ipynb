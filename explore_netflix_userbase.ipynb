{
 "cells": [
  {
   "cell_type": "markdown",
   "metadata": {},
   "source": [
    "# Netflix User Database Exploration & Visualization\n",
    "This notebook demonstrates basic data manipulation and visualization using `pandas`, `numpy`, `matplotlib`, and `seaborn`.\n",
    "\n",
    "### Step 1: Import all the necessary libraries\n",
    "\n",
    "We will start by importing the necessary libraries, creating a simple dataset, and visualizing the data.\n"
   ]
  },
  {
   "cell_type": "code",
   "execution_count": 1,
   "metadata": {},
   "outputs": [],
   "source": [
    "import os\n",
    "import pandas as pd\n",
    "import numpy as np\n",
    "import matplotlib.pyplot as plt\n",
    "import seaborn as sns\n"
   ]
  },
{
   "cell_type": "markdown",
   "metadata": {},
   "source": [
   "### Step 2: Conduct an initial data inspection\n",
    "\n",
    "Start by reading the file and understanding the structure of the dataset.\n",
    "This can be achieved by inspecting its shape, columns, and summary statistics. This will help identify any immediate issues, such as incorrect data types, outliers, or inconsistencies.\n",
    "\n",
    "**Key Findings from the Preview:**\n",
    "- This dataset contains a 2,500 row and 10 columns.\n",
    "- This dataset has no missing value. So, we don't have to deal with missing value.\n",
    "- The **Monthly Revenue** ranges from $10-$15, with an average of $12.5.\n",
    "- The most common **Subscription Type** is the 'Basic' plan with 999 users.\n",
    "- **Laptop Devices** dominate user access, with 25% of users preferring this device type"
   ]
  },
  {
   "cell_type": "code",
   "execution_count": 2,
   "metadata": {},
   "outputs": [],
   "source": [
   "nub_shape = netflix_userbase.shape\n",
   "nub_columns = netflix_userbase.info()\n",
   "nub_summary_statistics = netflix_userbase.describe(include='all')\n",
   "\n", 
   "print(nub_shape, nub_columns, nub_summary_statistics)"
   ]
  },
{
   "cell_type": "markdown",
   "metadata": {},
   "source": [
   "### Step 3: Subscription Type Analysis\n",
    "\n",
    "We'll begin with a breakdown of the subscription types to understand their distribution and revenue contributions.",
    "\n", 
    "**1. Distribution of Subscription Types**\n",
    "This chart visualizes the percentage of users by their subscription type.\n"
   ]
  },
{
   "cell_type": "code",
   "execution_count": 3,
   "metadata": {},
   "outputs": [],
   "source": [
   "subscription_breakdown = netflix_userbase['Subscription Type'].value_counts()\n",
   "plt.figure(figsize=(4, 4))\n",
   "subscription_breakdown.plot(kind='pie', colors=['brown', 'lightcoral', 'maroon'])\n",
   "plt.legend(title=\"Subscription Types\", loc=\"lower center\")\n",
   "plt.title('Users per Subscription Type', fontsize=10)\n",
   "plt.show()"
   ]
  }
],
 "metadata": {
  "kernelspec": {
   "display_name": "Python 3",
   "language": "python",
   "name": "python3"
  },
  "language_info": {
   "name": "python",
   "version": "3.8.5"
  }
 },
 "nbformat": 4,
 "nbformat_minor": 5
}
