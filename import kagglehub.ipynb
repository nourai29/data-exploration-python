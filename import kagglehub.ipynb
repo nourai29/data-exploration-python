import os
import pandas as pd
import numpy as np
import matplotlib.pyplot as plt
import seaborn as sns

netflix_userbase = pd.read_csv("/Users/noura.itani/Downloads/netflix_userbase.csv")

nub_shape=netflix_userbase.shape
nub_columns=netflix_userbase.info()
nub_summary_statistics=netflix_userbase.describe(include='all')

print(nub_shape, nub_columns, nub_summary_statistics)


subscription_breakdown = netflix_userbase['Subscription Type'].value_counts()
revenue_by_subscription = netflix_userbase.groupby('Subscription Type')['Monthly Revenue'].agg(['mean', 'sum', 'count'])

# gender_breakdown = netflix_userbase['Gender'].value_counts()
# device_breakdown = netflix_userbase['Device'].value_counts()
# country_breakdown = netflix_userbase['Country'].value_counts()

# plt.figure(figsize=(4,4))
# subscription_breakdown.plot(
#         kind='pie', 
#         autopct='%1.1f%%', 
#         startangle=140, 
#         labels=subscription_breakdown.index,
#         colors=['brown', 'lightcoral', 'maroon']
#         )

# plt.legend(
#         title="Subscription Types", 
#         loc="lower center"
#         )

# plt.title('Users per Subscription Type', fontsize=10)

# plt.show()


# plt.xlabel('Subscription Type', fontsize=12)
# plt.ylabel('Users', fontsize=12)
# plt.xticks(rotation=45)
# plt.grid(axis='y', linestyle='--', alpha=0.7)
