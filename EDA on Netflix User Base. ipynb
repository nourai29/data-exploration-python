import os
import pandas as pd
import numpy as np
import matplotlib.pyplot as plt
import seaborn as sns

netflix_userbase = pd.read_csv("/Users/noura.itani/Downloads/Netflix Userbase.csv")

subscription_breakdown = netflix_userbase['Subscription Type'].value_counts()
gender_breakdown = netflix_userbase['Gender'].value_counts()
device_breakdown = netflix_userbase['Device'].value_counts()
country_breakdown = netflix_userbase['Country'].value_counts()

print(subscription_breakdown,gender_breakdown, device_breakdown, country_breakdown)

plt.figure(figsize=(4,4))
subscription_breakdown.plot(
        kind='pie', 
        autopct='%1.1f%%', 
        startangle=140, 
        labels=subscription_breakdown.index,
        colors=['brown', 'lightcoral', 'maroon']
        )

plt.legend(
        title="Subscription Types", 
        loc="lower center"
        )

plt.title('Users per Subscription Type', fontsize=10)

plt.tight_layout()
plt.show()
